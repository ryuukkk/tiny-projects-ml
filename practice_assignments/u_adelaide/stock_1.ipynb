{
 "cells": [
  {
   "cell_type": "code",
   "id": "initial_id",
   "metadata": {
    "collapsed": true,
    "ExecuteTime": {
     "end_time": "2024-11-28T16:51:20.148764Z",
     "start_time": "2024-11-28T16:51:07.179150Z"
    }
   },
   "source": [
    "import csv\n",
    "\n",
    "import numpy as np\n",
    "import matplotlib.pyplot as plt\n",
    "import pandas as pd\n",
    "import tensorflow as tf\n",
    "from tensorflow import keras"
   ],
   "outputs": [],
   "execution_count": 1
  },
  {
   "metadata": {},
   "cell_type": "markdown",
   "source": "#### Load the dataset",
   "id": "8274e0f798c6e69c"
  },
  {
   "metadata": {
    "ExecuteTime": {
     "end_time": "2024-11-29T00:27:48.014228Z",
     "start_time": "2024-11-29T00:27:47.952884Z"
    }
   },
   "cell_type": "code",
   "source": [
    "file_path = \"data/AAPL.csv\"\n",
    "raw_data = tf.data.experimental.make_csv_dataset(\n",
    "    file_path,\n",
    "    batch_size=1,\n",
    "    column_names=[\"Date\", \"Low\", \"Open\", \"Volume\", \"High\", \"Close\", \"Adjusted Close\"],\n",
    "    column_defaults=[tf.string, tf.float32, tf.float32, tf.float32, tf.float32, tf.float32, tf.float32],\n",
    "    header=True,\n",
    "    shuffle=False\n",
    ")"
   ],
   "id": "8ea4a08dcca73254",
   "outputs": [],
   "execution_count": 5
  },
  {
   "metadata": {
    "ExecuteTime": {
     "end_time": "2024-11-29T00:28:55.217493Z",
     "start_time": "2024-11-29T00:28:55.213739Z"
    }
   },
   "cell_type": "code",
   "source": [
    "# Function to process rows\n",
    "def process_row(row):\n",
    "    # Extract the \"Close\" column as the target and normalize the features\n",
    "    target = row[\"Close\"]\n",
    "    features = tf.stack([row[\"Low\"], row[\"Open\"], row[\"High\"], row[\"Volume\"], row[\"Adjusted Close\"]], axis=0)\n",
    "    features = tf.math.divide_no_nan(features - tf.reduce_mean(features), tf.math.reduce_std(features))\n",
    "    return features, target"
   ],
   "id": "aef4342442498d31",
   "outputs": [],
   "execution_count": 6
  },
  {
   "metadata": {
    "ExecuteTime": {
     "end_time": "2024-11-29T00:29:07.780999Z",
     "start_time": "2024-11-29T00:29:07.736581Z"
    }
   },
   "cell_type": "code",
   "source": [
    "# Apply processing\n",
    "processed_data = raw_data.map(process_row)"
   ],
   "id": "2bb9ab708f96b1f3",
   "outputs": [],
   "execution_count": 7
  },
  {
   "metadata": {
    "ExecuteTime": {
     "end_time": "2024-11-29T00:29:21.253130Z",
     "start_time": "2024-11-29T00:29:21.249774Z"
    }
   },
   "cell_type": "code",
   "source": [
    "# Create sequences with a lookback window\n",
    "def create_sequences(data, lookback=30):\n",
    "    sequences = []\n",
    "    targets = []\n",
    "    buffer = []\n",
    "    buffer_targets = []\n",
    "    for features, target in data:\n",
    "        buffer.append(features)\n",
    "        buffer_targets.append(target)\n",
    "        if len(buffer) >= lookback:\n",
    "            sequences.append(tf.stack(buffer[-lookback:]))\n",
    "            targets.append(buffer_targets[-1])\n",
    "    return tf.data.Dataset.from_tensor_slices((sequences, targets))"
   ],
   "id": "b0264534222f454d",
   "outputs": [],
   "execution_count": 8
  },
  {
   "metadata": {
    "ExecuteTime": {
     "end_time": "2024-11-29T00:31:34.070886Z",
     "start_time": "2024-11-29T00:29:26.549348Z"
    }
   },
   "cell_type": "code",
   "source": [
    "lookback_window = 30\n",
    "processed_data = create_sequences(processed_data, lookback=lookback_window)\n",
    "\n",
    "# Split data into training, validation, and test sets\n",
    "total_samples = sum(1 for _ in processed_data)\n",
    "train_size = int(total_samples * 0.7)\n",
    "val_size = int(total_samples * 0.2)\n",
    "\n",
    "train_data = processed_data.take(train_size).batch(32).cache().shuffle(1000).prefetch(tf.data.AUTOTUNE)\n",
    "validation_data = processed_data.skip(train_size).take(val_size).batch(32).cache().prefetch(tf.data.AUTOTUNE)\n",
    "test_data = processed_data.skip(train_size + val_size).batch(32).cache().prefetch(tf.data.AUTOTUNE)"
   ],
   "id": "45dc2a60f22343bd",
   "outputs": [
    {
     "ename": "KeyboardInterrupt",
     "evalue": "",
     "output_type": "error",
     "traceback": [
      "\u001B[0;31m---------------------------------------------------------------------------\u001B[0m",
      "\u001B[0;31mAttributeError\u001B[0m                            Traceback (most recent call last)",
      "File \u001B[0;32m~/miniconda3/envs/tiny-ml/lib/python3.12/site-packages/tensorflow/python/data/ops/iterator_ops.py:783\u001B[0m, in \u001B[0;36mOwnedIterator._next_internal\u001B[0;34m(self)\u001B[0m\n\u001B[1;32m    781\u001B[0m \u001B[38;5;28;01mtry\u001B[39;00m:\n\u001B[1;32m    782\u001B[0m   \u001B[38;5;66;03m# Fast path for the case `self._structure` is not a nested structure.\u001B[39;00m\n\u001B[0;32m--> 783\u001B[0m   \u001B[38;5;28;01mreturn\u001B[39;00m \u001B[38;5;28;43mself\u001B[39;49m\u001B[38;5;241;43m.\u001B[39;49m\u001B[43m_element_spec\u001B[49m\u001B[38;5;241;43m.\u001B[39;49m\u001B[43m_from_compatible_tensor_list\u001B[49m(ret)  \u001B[38;5;66;03m# pylint: disable=protected-access\u001B[39;00m\n\u001B[1;32m    784\u001B[0m \u001B[38;5;28;01mexcept\u001B[39;00m \u001B[38;5;167;01mAttributeError\u001B[39;00m:\n",
      "\u001B[0;31mAttributeError\u001B[0m: 'tuple' object has no attribute '_from_compatible_tensor_list'",
      "\nDuring handling of the above exception, another exception occurred:\n",
      "\u001B[0;31mKeyboardInterrupt\u001B[0m                         Traceback (most recent call last)",
      "Cell \u001B[0;32mIn[9], line 2\u001B[0m\n\u001B[1;32m      1\u001B[0m lookback_window \u001B[38;5;241m=\u001B[39m \u001B[38;5;241m30\u001B[39m\n\u001B[0;32m----> 2\u001B[0m processed_data \u001B[38;5;241m=\u001B[39m \u001B[43mcreate_sequences\u001B[49m\u001B[43m(\u001B[49m\u001B[43mprocessed_data\u001B[49m\u001B[43m,\u001B[49m\u001B[43m \u001B[49m\u001B[43mlookback\u001B[49m\u001B[38;5;241;43m=\u001B[39;49m\u001B[43mlookback_window\u001B[49m\u001B[43m)\u001B[49m\n\u001B[1;32m      4\u001B[0m \u001B[38;5;66;03m# Split data into training, validation, and test sets\u001B[39;00m\n\u001B[1;32m      5\u001B[0m total_samples \u001B[38;5;241m=\u001B[39m \u001B[38;5;28msum\u001B[39m(\u001B[38;5;241m1\u001B[39m \u001B[38;5;28;01mfor\u001B[39;00m _ \u001B[38;5;129;01min\u001B[39;00m processed_data)\n",
      "Cell \u001B[0;32mIn[8], line 7\u001B[0m, in \u001B[0;36mcreate_sequences\u001B[0;34m(data, lookback)\u001B[0m\n\u001B[1;32m      5\u001B[0m buffer \u001B[38;5;241m=\u001B[39m []\n\u001B[1;32m      6\u001B[0m buffer_targets \u001B[38;5;241m=\u001B[39m []\n\u001B[0;32m----> 7\u001B[0m \u001B[43m\u001B[49m\u001B[38;5;28;43;01mfor\u001B[39;49;00m\u001B[43m \u001B[49m\u001B[43mfeatures\u001B[49m\u001B[43m,\u001B[49m\u001B[43m \u001B[49m\u001B[43mtarget\u001B[49m\u001B[43m \u001B[49m\u001B[38;5;129;43;01min\u001B[39;49;00m\u001B[43m \u001B[49m\u001B[43mdata\u001B[49m\u001B[43m:\u001B[49m\n\u001B[1;32m      8\u001B[0m \u001B[43m    \u001B[49m\u001B[43mbuffer\u001B[49m\u001B[38;5;241;43m.\u001B[39;49m\u001B[43mappend\u001B[49m\u001B[43m(\u001B[49m\u001B[43mfeatures\u001B[49m\u001B[43m)\u001B[49m\n\u001B[1;32m      9\u001B[0m \u001B[43m    \u001B[49m\u001B[43mbuffer_targets\u001B[49m\u001B[38;5;241;43m.\u001B[39;49m\u001B[43mappend\u001B[49m\u001B[43m(\u001B[49m\u001B[43mtarget\u001B[49m\u001B[43m)\u001B[49m\n",
      "File \u001B[0;32m~/miniconda3/envs/tiny-ml/lib/python3.12/site-packages/tensorflow/python/data/ops/iterator_ops.py:826\u001B[0m, in \u001B[0;36mOwnedIterator.__next__\u001B[0;34m(self)\u001B[0m\n\u001B[1;32m    824\u001B[0m \u001B[38;5;28;01mdef\u001B[39;00m \u001B[38;5;21m__next__\u001B[39m(\u001B[38;5;28mself\u001B[39m):\n\u001B[1;32m    825\u001B[0m   \u001B[38;5;28;01mtry\u001B[39;00m:\n\u001B[0;32m--> 826\u001B[0m     \u001B[38;5;28;01mreturn\u001B[39;00m \u001B[38;5;28;43mself\u001B[39;49m\u001B[38;5;241;43m.\u001B[39;49m\u001B[43m_next_internal\u001B[49m\u001B[43m(\u001B[49m\u001B[43m)\u001B[49m\n\u001B[1;32m    827\u001B[0m   \u001B[38;5;28;01mexcept\u001B[39;00m errors\u001B[38;5;241m.\u001B[39mOutOfRangeError:\n\u001B[1;32m    828\u001B[0m     \u001B[38;5;28;01mraise\u001B[39;00m \u001B[38;5;167;01mStopIteration\u001B[39;00m\n",
      "File \u001B[0;32m~/miniconda3/envs/tiny-ml/lib/python3.12/site-packages/tensorflow/python/data/ops/iterator_ops.py:785\u001B[0m, in \u001B[0;36mOwnedIterator._next_internal\u001B[0;34m(self)\u001B[0m\n\u001B[1;32m    783\u001B[0m   \u001B[38;5;28;01mreturn\u001B[39;00m \u001B[38;5;28mself\u001B[39m\u001B[38;5;241m.\u001B[39m_element_spec\u001B[38;5;241m.\u001B[39m_from_compatible_tensor_list(ret)  \u001B[38;5;66;03m# pylint: disable=protected-access\u001B[39;00m\n\u001B[1;32m    784\u001B[0m \u001B[38;5;28;01mexcept\u001B[39;00m \u001B[38;5;167;01mAttributeError\u001B[39;00m:\n\u001B[0;32m--> 785\u001B[0m   \u001B[38;5;28;01mreturn\u001B[39;00m \u001B[43mstructure\u001B[49m\u001B[38;5;241;43m.\u001B[39;49m\u001B[43mfrom_compatible_tensor_list\u001B[49m\u001B[43m(\u001B[49m\u001B[38;5;28;43mself\u001B[39;49m\u001B[38;5;241;43m.\u001B[39;49m\u001B[43m_element_spec\u001B[49m\u001B[43m,\u001B[49m\u001B[43m \u001B[49m\u001B[43mret\u001B[49m\u001B[43m)\u001B[49m\n",
      "File \u001B[0;32m~/miniconda3/envs/tiny-ml/lib/python3.12/site-packages/tensorflow/python/data/util/structure.py:250\u001B[0m, in \u001B[0;36mfrom_compatible_tensor_list\u001B[0;34m(element_spec, tensor_list)\u001B[0m\n\u001B[1;32m    233\u001B[0m \u001B[38;5;250m\u001B[39m\u001B[38;5;124;03m\"\"\"Returns an element constructed from the given spec and tensor list.\u001B[39;00m\n\u001B[1;32m    234\u001B[0m \n\u001B[1;32m    235\u001B[0m \u001B[38;5;124;03mArgs:\u001B[39;00m\n\u001B[0;32m   (...)\u001B[0m\n\u001B[1;32m    245\u001B[0m \u001B[38;5;124;03m    the given spec does not match the given number of tensors.\u001B[39;00m\n\u001B[1;32m    246\u001B[0m \u001B[38;5;124;03m\"\"\"\u001B[39;00m\n\u001B[1;32m    248\u001B[0m \u001B[38;5;66;03m# pylint: disable=protected-access\u001B[39;00m\n\u001B[1;32m    249\u001B[0m \u001B[38;5;66;03m# pylint: disable=g-long-lambda\u001B[39;00m\n\u001B[0;32m--> 250\u001B[0m \u001B[38;5;28;01mreturn\u001B[39;00m \u001B[43m_from_tensor_list_helper\u001B[49m\u001B[43m(\u001B[49m\n\u001B[1;32m    251\u001B[0m \u001B[43m    \u001B[49m\u001B[38;5;28;43;01mlambda\u001B[39;49;00m\u001B[43m \u001B[49m\u001B[43mspec\u001B[49m\u001B[43m,\u001B[49m\u001B[43m \u001B[49m\u001B[43mvalue\u001B[49m\u001B[43m:\u001B[49m\u001B[43m \u001B[49m\u001B[43mspec\u001B[49m\u001B[38;5;241;43m.\u001B[39;49m\u001B[43m_from_compatible_tensor_list\u001B[49m\u001B[43m(\u001B[49m\u001B[43mvalue\u001B[49m\u001B[43m)\u001B[49m\u001B[43m,\u001B[49m\n\u001B[1;32m    252\u001B[0m \u001B[43m    \u001B[49m\u001B[43melement_spec\u001B[49m\u001B[43m,\u001B[49m\u001B[43m \u001B[49m\u001B[43mtensor_list\u001B[49m\u001B[43m)\u001B[49m\n",
      "File \u001B[0;32m~/miniconda3/envs/tiny-ml/lib/python3.12/site-packages/tensorflow/python/data/util/structure.py:229\u001B[0m, in \u001B[0;36m_from_tensor_list_helper\u001B[0;34m(decode_fn, element_spec, tensor_list)\u001B[0m\n\u001B[1;32m    227\u001B[0m   flat_ret\u001B[38;5;241m.\u001B[39mappend(decode_fn(component_spec, value))\n\u001B[1;32m    228\u001B[0m   i \u001B[38;5;241m+\u001B[39m\u001B[38;5;241m=\u001B[39m num_flat_values\n\u001B[0;32m--> 229\u001B[0m \u001B[38;5;28;01mreturn\u001B[39;00m \u001B[43mnest\u001B[49m\u001B[38;5;241;43m.\u001B[39;49m\u001B[43mpack_sequence_as\u001B[49m\u001B[43m(\u001B[49m\u001B[43melement_spec\u001B[49m\u001B[43m,\u001B[49m\u001B[43m \u001B[49m\u001B[43mflat_ret\u001B[49m\u001B[43m)\u001B[49m\n",
      "File \u001B[0;32m~/miniconda3/envs/tiny-ml/lib/python3.12/site-packages/tensorflow/python/data/util/nest.py:87\u001B[0m, in \u001B[0;36mpack_sequence_as\u001B[0;34m(structure, flat_sequence)\u001B[0m\n\u001B[1;32m     69\u001B[0m \u001B[38;5;28;01mdef\u001B[39;00m \u001B[38;5;21mpack_sequence_as\u001B[39m(structure, flat_sequence):\n\u001B[1;32m     70\u001B[0m \u001B[38;5;250m  \u001B[39m\u001B[38;5;124;03m\"\"\"Returns a given flattened sequence packed into a nest.\u001B[39;00m\n\u001B[1;32m     71\u001B[0m \n\u001B[1;32m     72\u001B[0m \u001B[38;5;124;03m  If `structure` is a scalar, `flat_sequence` must be a single-element list;\u001B[39;00m\n\u001B[0;32m   (...)\u001B[0m\n\u001B[1;32m     85\u001B[0m \u001B[38;5;124;03m    ValueError: If nest and structure have different element counts.\u001B[39;00m\n\u001B[1;32m     86\u001B[0m \u001B[38;5;124;03m  \"\"\"\u001B[39;00m\n\u001B[0;32m---> 87\u001B[0m   \u001B[38;5;28;01mreturn\u001B[39;00m \u001B[43mnest_util\u001B[49m\u001B[38;5;241;43m.\u001B[39;49m\u001B[43mpack_sequence_as\u001B[49m\u001B[43m(\u001B[49m\n\u001B[1;32m     88\u001B[0m \u001B[43m      \u001B[49m\u001B[43mnest_util\u001B[49m\u001B[38;5;241;43m.\u001B[39;49m\u001B[43mModality\u001B[49m\u001B[38;5;241;43m.\u001B[39;49m\u001B[43mDATA\u001B[49m\u001B[43m,\u001B[49m\u001B[43m \u001B[49m\u001B[43mstructure\u001B[49m\u001B[43m,\u001B[49m\u001B[43m \u001B[49m\u001B[43mflat_sequence\u001B[49m\u001B[43m,\u001B[49m\u001B[43m \u001B[49m\u001B[43mexpand_composites\u001B[49m\u001B[38;5;241;43m=\u001B[39;49m\u001B[38;5;28;43;01mFalse\u001B[39;49;00m\n\u001B[1;32m     89\u001B[0m \u001B[43m  \u001B[49m\u001B[43m)\u001B[49m\n",
      "File \u001B[0;32m~/miniconda3/envs/tiny-ml/lib/python3.12/site-packages/tensorflow/python/util/nest_util.py:859\u001B[0m, in \u001B[0;36mpack_sequence_as\u001B[0;34m(modality, structure, flat_sequence, expand_composites, sequence_fn)\u001B[0m\n\u001B[1;32m    855\u001B[0m   \u001B[38;5;28;01mreturn\u001B[39;00m _tf_core_pack_sequence_as(\n\u001B[1;32m    856\u001B[0m       structure, flat_sequence, expand_composites, sequence_fn\n\u001B[1;32m    857\u001B[0m   )\n\u001B[1;32m    858\u001B[0m \u001B[38;5;28;01melif\u001B[39;00m modality \u001B[38;5;241m==\u001B[39m Modality\u001B[38;5;241m.\u001B[39mDATA:\n\u001B[0;32m--> 859\u001B[0m   \u001B[38;5;28;01mreturn\u001B[39;00m \u001B[43m_tf_data_pack_sequence_as\u001B[49m\u001B[43m(\u001B[49m\u001B[43mstructure\u001B[49m\u001B[43m,\u001B[49m\u001B[43m \u001B[49m\u001B[43mflat_sequence\u001B[49m\u001B[43m)\u001B[49m\n\u001B[1;32m    860\u001B[0m \u001B[38;5;28;01melse\u001B[39;00m:\n\u001B[1;32m    861\u001B[0m   \u001B[38;5;28;01mraise\u001B[39;00m \u001B[38;5;167;01mValueError\u001B[39;00m(\n\u001B[1;32m    862\u001B[0m       \u001B[38;5;124m\"\u001B[39m\u001B[38;5;124mUnknown modality used \u001B[39m\u001B[38;5;132;01m{}\u001B[39;00m\u001B[38;5;124m for nested structure\u001B[39m\u001B[38;5;124m\"\u001B[39m\u001B[38;5;241m.\u001B[39mformat(modality)\n\u001B[1;32m    863\u001B[0m   )\n",
      "File \u001B[0;32m~/miniconda3/envs/tiny-ml/lib/python3.12/site-packages/tensorflow/python/util/nest_util.py:963\u001B[0m, in \u001B[0;36m_tf_data_pack_sequence_as\u001B[0;34m(structure, flat_sequence)\u001B[0m\n\u001B[1;32m    955\u001B[0m \u001B[38;5;28;01mif\u001B[39;00m \u001B[38;5;28mlen\u001B[39m(flat_structure) \u001B[38;5;241m!=\u001B[39m \u001B[38;5;28mlen\u001B[39m(flat_sequence):\n\u001B[1;32m    956\u001B[0m   \u001B[38;5;28;01mraise\u001B[39;00m \u001B[38;5;167;01mValueError\u001B[39;00m(\n\u001B[1;32m    957\u001B[0m       \u001B[38;5;124m\"\u001B[39m\u001B[38;5;124mCould not pack sequence. Argument `structure` had \u001B[39m\u001B[38;5;124m\"\u001B[39m\n\u001B[1;32m    958\u001B[0m       \u001B[38;5;124mf\u001B[39m\u001B[38;5;124m\"\u001B[39m\u001B[38;5;132;01m{\u001B[39;00m\u001B[38;5;28mlen\u001B[39m(flat_structure)\u001B[38;5;132;01m}\u001B[39;00m\u001B[38;5;124m elements, but argument `flat_sequence` had \u001B[39m\u001B[38;5;124m\"\u001B[39m\n\u001B[1;32m    959\u001B[0m       \u001B[38;5;124mf\u001B[39m\u001B[38;5;124m\"\u001B[39m\u001B[38;5;132;01m{\u001B[39;00m\u001B[38;5;28mlen\u001B[39m(flat_sequence)\u001B[38;5;132;01m}\u001B[39;00m\u001B[38;5;124m elements. Received structure: \u001B[39m\u001B[38;5;124m\"\u001B[39m\n\u001B[1;32m    960\u001B[0m       \u001B[38;5;124mf\u001B[39m\u001B[38;5;124m\"\u001B[39m\u001B[38;5;132;01m{\u001B[39;00mstructure\u001B[38;5;132;01m}\u001B[39;00m\u001B[38;5;124m, flat_sequence: \u001B[39m\u001B[38;5;132;01m{\u001B[39;00mflat_sequence\u001B[38;5;132;01m}\u001B[39;00m\u001B[38;5;124m.\u001B[39m\u001B[38;5;124m\"\u001B[39m\n\u001B[1;32m    961\u001B[0m   )\n\u001B[0;32m--> 963\u001B[0m _, packed \u001B[38;5;241m=\u001B[39m \u001B[43m_tf_data_packed_nest_with_indices\u001B[49m\u001B[43m(\u001B[49m\u001B[43mstructure\u001B[49m\u001B[43m,\u001B[49m\u001B[43m \u001B[49m\u001B[43mflat_sequence\u001B[49m\u001B[43m,\u001B[49m\u001B[43m \u001B[49m\u001B[38;5;241;43m0\u001B[39;49m\u001B[43m)\u001B[49m\n\u001B[1;32m    964\u001B[0m \u001B[38;5;28;01mreturn\u001B[39;00m sequence_like(structure, packed)\n",
      "File \u001B[0;32m~/miniconda3/envs/tiny-ml/lib/python3.12/site-packages/tensorflow/python/util/nest_util.py:604\u001B[0m, in \u001B[0;36m_tf_data_packed_nest_with_indices\u001B[0;34m(structure, flat, index)\u001B[0m\n\u001B[1;32m    585\u001B[0m \u001B[38;5;250m\u001B[39m\u001B[38;5;124;03m\"\"\"Helper function for pack_nest_as.\u001B[39;00m\n\u001B[1;32m    586\u001B[0m \n\u001B[1;32m    587\u001B[0m \u001B[38;5;124;03mArgs:\u001B[39;00m\n\u001B[0;32m   (...)\u001B[0m\n\u001B[1;32m    601\u001B[0m \u001B[38;5;124;03m    (assuming indexing starts from `index`).\u001B[39;00m\n\u001B[1;32m    602\u001B[0m \u001B[38;5;124;03m\"\"\"\u001B[39;00m\n\u001B[1;32m    603\u001B[0m packed \u001B[38;5;241m=\u001B[39m []\n\u001B[0;32m--> 604\u001B[0m \u001B[43m\u001B[49m\u001B[38;5;28;43;01mfor\u001B[39;49;00m\u001B[43m \u001B[49m\u001B[43ms\u001B[49m\u001B[43m \u001B[49m\u001B[38;5;129;43;01min\u001B[39;49;00m\u001B[43m \u001B[49m\u001B[43m_tf_data_yield_value\u001B[49m\u001B[43m(\u001B[49m\u001B[43mstructure\u001B[49m\u001B[43m)\u001B[49m\u001B[43m:\u001B[49m\n\u001B[1;32m    605\u001B[0m \u001B[43m  \u001B[49m\u001B[38;5;28;43;01mif\u001B[39;49;00m\u001B[43m \u001B[49m\u001B[43m_tf_data_is_nested\u001B[49m\u001B[43m(\u001B[49m\u001B[43ms\u001B[49m\u001B[43m)\u001B[49m\u001B[43m:\u001B[49m\n\u001B[1;32m    606\u001B[0m \u001B[43m    \u001B[49m\u001B[43mnew_index\u001B[49m\u001B[43m,\u001B[49m\u001B[43m \u001B[49m\u001B[43mchild\u001B[49m\u001B[43m \u001B[49m\u001B[38;5;241;43m=\u001B[39;49m\u001B[43m \u001B[49m\u001B[43m_tf_data_packed_nest_with_indices\u001B[49m\u001B[43m(\u001B[49m\u001B[43ms\u001B[49m\u001B[43m,\u001B[49m\u001B[43m \u001B[49m\u001B[43mflat\u001B[49m\u001B[43m,\u001B[49m\u001B[43m \u001B[49m\u001B[43mindex\u001B[49m\u001B[43m)\u001B[49m\n",
      "File \u001B[0;32m~/miniconda3/envs/tiny-ml/lib/python3.12/site-packages/tensorflow/python/util/nest_util.py:404\u001B[0m, in \u001B[0;36m_tf_data_yield_value\u001B[0;34m(iterable)\u001B[0m\n\u001B[1;32m    402\u001B[0m   \u001B[38;5;28;01mfor\u001B[39;00m _, attr \u001B[38;5;129;01min\u001B[39;00m _get_attrs_items(iterable):\n\u001B[1;32m    403\u001B[0m     \u001B[38;5;28;01myield\u001B[39;00m attr\n\u001B[0;32m--> 404\u001B[0m \u001B[38;5;28;01melif\u001B[39;00m \u001B[38;5;28;43misinstance\u001B[39;49m\u001B[43m(\u001B[49m\u001B[43miterable\u001B[49m\u001B[43m,\u001B[49m\u001B[43m \u001B[49m\u001B[43mCustomNestProtocol\u001B[49m\u001B[43m)\u001B[49m:\n\u001B[1;32m    405\u001B[0m   flat_component \u001B[38;5;241m=\u001B[39m iterable\u001B[38;5;241m.\u001B[39m__tf_flatten__()[\u001B[38;5;241m1\u001B[39m]\n\u001B[1;32m    406\u001B[0m   \u001B[38;5;28;01massert\u001B[39;00m \u001B[38;5;28misinstance\u001B[39m(flat_component, \u001B[38;5;28mtuple\u001B[39m)\n",
      "File \u001B[0;32m~/miniconda3/envs/tiny-ml/lib/python3.12/typing.py:1915\u001B[0m, in \u001B[0;36m_ProtocolMeta.__instancecheck__\u001B[0;34m(cls, instance)\u001B[0m\n\u001B[1;32m   1908\u001B[0m \u001B[38;5;28;01mif\u001B[39;00m (\n\u001B[1;32m   1909\u001B[0m     \u001B[38;5;129;01mnot\u001B[39;00m \u001B[38;5;28mgetattr\u001B[39m(\u001B[38;5;28mcls\u001B[39m, \u001B[38;5;124m'\u001B[39m\u001B[38;5;124m_is_runtime_protocol\u001B[39m\u001B[38;5;124m'\u001B[39m, \u001B[38;5;28;01mFalse\u001B[39;00m) \u001B[38;5;129;01mand\u001B[39;00m\n\u001B[1;32m   1910\u001B[0m     \u001B[38;5;129;01mnot\u001B[39;00m _allow_reckless_class_checks()\n\u001B[1;32m   1911\u001B[0m ):\n\u001B[1;32m   1912\u001B[0m     \u001B[38;5;28;01mraise\u001B[39;00m \u001B[38;5;167;01mTypeError\u001B[39;00m(\u001B[38;5;124m\"\u001B[39m\u001B[38;5;124mInstance and class checks can only be used with\u001B[39m\u001B[38;5;124m\"\u001B[39m\n\u001B[1;32m   1913\u001B[0m                     \u001B[38;5;124m\"\u001B[39m\u001B[38;5;124m @runtime_checkable protocols\u001B[39m\u001B[38;5;124m\"\u001B[39m)\n\u001B[0;32m-> 1915\u001B[0m \u001B[38;5;28;01mif\u001B[39;00m \u001B[38;5;28;43msuper\u001B[39;49m\u001B[43m(\u001B[49m\u001B[43m)\u001B[49m\u001B[38;5;241;43m.\u001B[39;49m\u001B[38;5;21;43m__instancecheck__\u001B[39;49m\u001B[43m(\u001B[49m\u001B[43minstance\u001B[49m\u001B[43m)\u001B[49m:\n\u001B[1;32m   1916\u001B[0m     \u001B[38;5;28;01mreturn\u001B[39;00m \u001B[38;5;28;01mTrue\u001B[39;00m\n\u001B[1;32m   1918\u001B[0m getattr_static \u001B[38;5;241m=\u001B[39m _lazy_load_getattr_static()\n",
      "File \u001B[0;32m<frozen abc>:119\u001B[0m, in \u001B[0;36m__instancecheck__\u001B[0;34m(cls, instance)\u001B[0m\n",
      "\u001B[0;31mKeyboardInterrupt\u001B[0m: "
     ]
    }
   ],
   "execution_count": 9
  },
  {
   "metadata": {},
   "cell_type": "code",
   "outputs": [],
   "execution_count": null,
   "source": "",
   "id": "4f7e064efae5f55c"
  }
 ],
 "metadata": {
  "kernelspec": {
   "display_name": "Python 3",
   "language": "python",
   "name": "python3"
  },
  "language_info": {
   "codemirror_mode": {
    "name": "ipython",
    "version": 2
   },
   "file_extension": ".py",
   "mimetype": "text/x-python",
   "name": "python",
   "nbconvert_exporter": "python",
   "pygments_lexer": "ipython2",
   "version": "2.7.6"
  }
 },
 "nbformat": 4,
 "nbformat_minor": 5
}
