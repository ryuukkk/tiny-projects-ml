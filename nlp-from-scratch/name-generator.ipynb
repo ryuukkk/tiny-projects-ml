{
 "cells": [
  {
   "cell_type": "markdown",
   "id": "d6dc4d5d",
   "metadata": {},
   "source": [
    "#### Setup PyTorch"
   ]
  },
  {
   "cell_type": "code",
   "execution_count": 2,
   "id": "ec40761e",
   "metadata": {},
   "outputs": [
    {
     "name": "stdout",
     "output_type": "stream",
     "text": [
      "Using device = cpu\n"
     ]
    }
   ],
   "source": [
    "import torch\n",
    "\n",
    "# Check if CUDA is available\n",
    "device = torch.device('cpu')\n",
    "if torch.cuda.is_available():\n",
    "    device = torch.device('cuda')\n",
    "\n",
    "# Will still need to manually do `.to(device)` on nn.Module objects and some datasets\n",
    "torch.set_default_device(device)\n",
    "print(f\"Using device = {torch.get_default_device()}\")"
   ]
  },
  {
   "cell_type": "markdown",
   "id": "6de662c8",
   "metadata": {},
   "source": [
    "#### Load and Prepare Data"
   ]
  },
  {
   "cell_type": "code",
   "execution_count": 3,
   "id": "a26cde94",
   "metadata": {},
   "outputs": [],
   "source": [
    "import string\n",
    "import unicodedata\n",
    "\n",
    "# We can use \"_\" to represent an out-of-vocabulary character, that is, any character we are not handling in our model\n",
    "allowed_characters = string.ascii_letters + \" .,;'\" + \"_\"\n",
    "n_letters = len(allowed_characters)\n",
    "\n",
    "# Turn a Unicode string to plain ASCII, thanks to https://stackoverflow.com/a/518232/2809427\n",
    "def unicodeToAscii(s):\n",
    "    return ''.join(\n",
    "        c for c in unicodedata.normalize('NFD', s)\n",
    "        if unicodedata.category(c) != 'Mn'\n",
    "        and c in allowed_characters\n",
    "    )"
   ]
  },
  {
   "cell_type": "code",
   "execution_count": 4,
   "id": "bd6bcf0a",
   "metadata": {},
   "outputs": [],
   "source": [
    "# Index of a character in all characters list\n",
    "def letter_to_index(letter):\n",
    "    if letter not in allowed_characters:\n",
    "        return allowed_characters.find('_')\n",
    "    else:\n",
    "        return allowed_characters.find(letter)\n",
    "\n",
    "# Character-level Encoding\n",
    "# One-hotting each letter\n",
    "def line_to_Tensor(line):\n",
    "    tensor = torch.zeros(len(line), 1, n_letters)   # The 1 is because PyTorch expects datasets to be in batches, so each letter here is one batch\n",
    "    for idx, letter in enumerate(line):\n",
    "        tensor[idx][0][letter_to_index(letter)]=1\n",
    "    return tensor"
   ]
  },
  {
   "cell_type": "code",
   "execution_count": 5,
   "id": "c53be1f5",
   "metadata": {},
   "outputs": [
    {
     "data": {
      "text/plain": [
       "tensor(37.)"
      ]
     },
     "execution_count": 5,
     "metadata": {},
     "output_type": "execute_result"
    }
   ],
   "source": [
    "line = 'Work-life balance is for the average.'\n",
    "line_tensor = line_to_Tensor(line)\n",
    "line_tensor.sum()"
   ]
  },
  {
   "cell_type": "code",
   "execution_count": 30,
   "id": "52cc97e7",
   "metadata": {},
   "outputs": [
    {
     "data": {
      "text/plain": [
       "tensor([[48],\n",
       "        [14],\n",
       "        [17],\n",
       "        [10],\n",
       "        [57]])"
      ]
     },
     "execution_count": 30,
     "metadata": {},
     "output_type": "execute_result"
    }
   ],
   "source": [
    "line_tensor.argmax(dim=2)[:5]"
   ]
  },
  {
   "cell_type": "code",
   "execution_count": 7,
   "id": "a7ca34e9",
   "metadata": {},
   "outputs": [],
   "source": [
    "DATA_DIR = 'data/names'"
   ]
  },
  {
   "cell_type": "code",
   "execution_count": 8,
   "id": "061a1520",
   "metadata": {},
   "outputs": [],
   "source": [
    "import torch\n",
    "from torch.utils.data import Dataset\n",
    "import time\n",
    "import os\n",
    "\n",
    "class NameDataset(Dataset):\n",
    "    def __init__(self, data_dir):\n",
    "        super().__init__()\n",
    "        self.data_dir = data_dir            # For profiling and logs\n",
    "        self.load_time = time.localtime     # For profiling and logs\n",
    "        \n",
    "        self.data = []  # All names\n",
    "        self.data_tensors = []  # Tensor representations of all names (in order)\n",
    "        self.labels = []    # All corresponding labels\n",
    "        self.label_tensors = []     # Tensor representations of labels (Encoded labels)\n",
    "        self.label_to_index = {}  # Unique labels   # Previous implementation was set(), which runs O(n) instead of the current O(1)\n",
    "\n",
    "        all_files = os.listdir(data_dir)  # paths of the label folder\n",
    "        for label_idx, filename in enumerate(all_files):\n",
    "            current_label = os.path.splitext(filename)[0]\n",
    "            self.label_to_index[current_label] = label_idx\n",
    "            filepath = os.path.join(data_dir, filename)\n",
    "            with open(filepath, 'r', encoding='utf-8') as f:\n",
    "                lines = f.read().strip().split('\\n')\n",
    "            for name in lines:\n",
    "                self.data.append(name)\n",
    "                self.labels.append(current_label)\n",
    "                self.data_tensors.append(line_to_Tensor(name))\n",
    "                self.label_tensors.append(torch.tensor([label_idx], dtype=torch.long))\n",
    "\n",
    "    def __len__(self):\n",
    "        return len(self.data)\n",
    "\n",
    "    def __getitem__(self, idx):\n",
    "        data_tensor = self.data_tensors[idx]\n",
    "        data_item = self.data[idx]\n",
    "        label_tensor = self.label_tensors[idx]\n",
    "        label_name = self.labels[idx]\n",
    "\n",
    "        return data_tensor, label_tensor, data_item, label_name"
   ]
  },
  {
   "cell_type": "code",
   "execution_count": 9,
   "id": "068476ed",
   "metadata": {},
   "outputs": [
    {
     "data": {
      "text/plain": [
       "(tensor([[[0., 0., 0., 0., 0., 0., 0., 0., 0., 0., 0., 0., 0., 0., 0., 0., 0.,\n",
       "           0., 0., 0., 0., 0., 0., 0., 0., 0., 1., 0., 0., 0., 0., 0., 0., 0.,\n",
       "           0., 0., 0., 0., 0., 0., 0., 0., 0., 0., 0., 0., 0., 0., 0., 0., 0.,\n",
       "           0., 0., 0., 0., 0., 0., 0.]],\n",
       " \n",
       "         [[0., 1., 0., 0., 0., 0., 0., 0., 0., 0., 0., 0., 0., 0., 0., 0., 0.,\n",
       "           0., 0., 0., 0., 0., 0., 0., 0., 0., 0., 0., 0., 0., 0., 0., 0., 0.,\n",
       "           0., 0., 0., 0., 0., 0., 0., 0., 0., 0., 0., 0., 0., 0., 0., 0., 0.,\n",
       "           0., 0., 0., 0., 0., 0., 0.]],\n",
       " \n",
       "         [[0., 0., 0., 0., 0., 0., 0., 0., 0., 0., 0., 1., 0., 0., 0., 0., 0.,\n",
       "           0., 0., 0., 0., 0., 0., 0., 0., 0., 0., 0., 0., 0., 0., 0., 0., 0.,\n",
       "           0., 0., 0., 0., 0., 0., 0., 0., 0., 0., 0., 0., 0., 0., 0., 0., 0.,\n",
       "           0., 0., 0., 0., 0., 0., 0.]]]),\n",
       " tensor([0]),\n",
       " 'Abl',\n",
       " 'Czech')"
      ]
     },
     "execution_count": 9,
     "metadata": {},
     "output_type": "execute_result"
    }
   ],
   "source": [
    "name_dataset = NameDataset(DATA_DIR)\n",
    "name_dataset[0]"
   ]
  },
  {
   "cell_type": "code",
   "execution_count": 10,
   "id": "491cfb60",
   "metadata": {},
   "outputs": [
    {
     "data": {
      "text/plain": [
       "tensor(26)"
      ]
     },
     "execution_count": 10,
     "metadata": {},
     "output_type": "execute_result"
    }
   ],
   "source": [
    "torch.argmax(line_to_Tensor('A'))"
   ]
  },
  {
   "cell_type": "code",
   "execution_count": 11,
   "id": "e5e9f171",
   "metadata": {},
   "outputs": [],
   "source": [
    "# Split into training and validation sets\n",
    "train_set, valid_set, test_set = torch.utils.data.random_split(name_dataset, [.70, .15, .15], generator=torch.Generator(device=device).manual_seed(2024))"
   ]
  },
  {
   "cell_type": "code",
   "execution_count": 15,
   "id": "c15cb9c2",
   "metadata": {},
   "outputs": [
    {
     "data": {
      "text/plain": [
       "(14052, 3011)"
      ]
     },
     "execution_count": 15,
     "metadata": {},
     "output_type": "execute_result"
    }
   ],
   "source": [
    "len(train_set), len(valid_set)"
   ]
  },
  {
   "cell_type": "code",
   "execution_count": 23,
   "id": "cc4554fe",
   "metadata": {},
   "outputs": [],
   "source": [
    "import torch.nn as nn\n",
    "import torch.functional as F\n",
    "\n",
    "class CharRNN(nn.Module):\n",
    "    def __init__(self, input_size, hidden_size, output_size, *args, **kwargs):\n",
    "        super().__init__(*args, **kwargs)\n",
    "        self.rnn = nn.RNN(\n",
    "            input_size=input_size,\n",
    "            hidden_size=hidden_size,    # We ignore `output_size` because we don't need output for this layer\n",
    "            )\n",
    "        self.output_layer = nn.Linear(\n",
    "            in_features=hidden_size,\n",
    "            out_features=output_size,\n",
    "        )\n",
    "        self.softmax = nn.LogSoftmax(dim=1)\n",
    "\n",
    "    def forward(self, line_tensor):\n",
    "        rnn_out, rnn_hidden = self.rnn(line_tensor)\n",
    "        output = self.output_layer(rnn_hidden)\n",
    "        output = self.softmax(output)\n",
    "\n",
    "        return output"
   ]
  },
  {
   "cell_type": "code",
   "execution_count": 28,
   "id": "62428968",
   "metadata": {},
   "outputs": [],
   "source": [
    "n_hidden = 128\n",
    "rnn_model = CharRNN(n_letters, n_hidden, len(set(name_dataset.labels)))"
   ]
  },
  {
   "cell_type": "code",
   "execution_count": 29,
   "id": "e4e7d6dd",
   "metadata": {},
   "outputs": [
    {
     "data": {
      "text/plain": [
       "CharRNN(\n",
       "  (rnn): RNN(58, 128)\n",
       "  (output_layer): Linear(in_features=128, out_features=18, bias=True)\n",
       "  (softmax): LogSoftmax(dim=1)\n",
       ")"
      ]
     },
     "execution_count": 29,
     "metadata": {},
     "output_type": "execute_result"
    }
   ],
   "source": [
    "rnn_model"
   ]
  },
  {
   "cell_type": "code",
   "execution_count": 38,
   "id": "b81a7321",
   "metadata": {},
   "outputs": [
    {
     "name": "stdout",
     "output_type": "stream",
     "text": [
      "tensor([[[0., 0., 0., 0., 0., 0., 0., 0., 0., 0., 0., 0., 0., 0., 0., 0., 0., 0.]]],\n",
      "       grad_fn=<LogSoftmaxBackward0>)\n",
      "('Korean', 0)\n"
     ]
    }
   ],
   "source": [
    "def label_from_output(output, output_labels):\n",
    "    top_n, top_i = output.topk(1)\n",
    "    label_i = top_i[0].item()\n",
    "    return output_labels[label_i], label_i\n",
    "\n",
    "input = line_to_Tensor('Albert')\n",
    "output = rnn_model(input) #this is equivalent to ``output = rnn.forward(input)``\n",
    "print(output)\n",
    "print(label_from_output(output, list(set(name_dataset.labels))))"
   ]
  },
  {
   "cell_type": "markdown",
   "id": "d1dc7de8",
   "metadata": {},
   "source": [
    "#### Training Loop\n",
    "**This code piece is a not based on standard-practices as we do a lot of things from scratch using plain Python.**"
   ]
  },
  {
   "cell_type": "code",
   "execution_count": null,
   "id": "69327c46",
   "metadata": {},
   "outputs": [],
   "source": [
    "def fit(model, training_data, n_epochs=10, n_batch_size=128, report_every=50, learning_rate=0.2, criteria=nn.NLLLoss()):\n",
    "    \n",
    "    # Variable to keep track of (for plotting etc)\n",
    "    all_loses = []\n",
    "    current_loss = 0\n",
    "    optimizer = torch.optim.SGD(lr=learning_rate)\n",
    "    \n",
    "    for epoch in range(1, n_epochs+1):\n",
    "        model.zero_grad()   # Clear the gradients\n"
   ]
  }
 ],
 "metadata": {
  "kernelspec": {
   "display_name": "tiny-ml-pt",
   "language": "python",
   "name": "python3"
  },
  "language_info": {
   "codemirror_mode": {
    "name": "ipython",
    "version": 3
   },
   "file_extension": ".py",
   "mimetype": "text/x-python",
   "name": "python",
   "nbconvert_exporter": "python",
   "pygments_lexer": "ipython3",
   "version": "3.12.9"
  }
 },
 "nbformat": 4,
 "nbformat_minor": 5
}
