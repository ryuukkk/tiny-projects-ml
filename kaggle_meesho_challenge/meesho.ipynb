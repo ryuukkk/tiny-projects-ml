{
 "cells": [
  {
   "cell_type": "code",
   "id": "initial_id",
   "metadata": {
    "collapsed": true,
    "ExecuteTime": {
     "end_time": "2024-11-02T12:09:52.298568Z",
     "start_time": "2024-11-02T12:09:52.296574Z"
    }
   },
   "source": [
    "import tensorflow as tf\n",
    "from tensorflow import keras"
   ],
   "outputs": [],
   "execution_count": 2
  },
  {
   "metadata": {
    "ExecuteTime": {
     "end_time": "2024-11-02T12:30:23.747389Z",
     "start_time": "2024-11-02T12:30:23.735978Z"
    }
   },
   "cell_type": "code",
   "source": [
    "train_csv = tf.data.TextLineDataset('data/train.csv')\n",
    "feature_names = list(train_csv.take(1).as_numpy_iterator())\n",
    "feature_names = [i for i in feature_names[0].decode().split(',')]"
   ],
   "id": "22d1a3f86176ff69",
   "outputs": [],
   "execution_count": 22
  },
  {
   "metadata": {
    "ExecuteTime": {
     "end_time": "2024-11-02T12:46:29.192421Z",
     "start_time": "2024-11-02T12:46:29.174048Z"
    }
   },
   "cell_type": "code",
   "source": "list(train_csv.skip(1).take(3).as_numpy_iterator())",
   "id": "2a254079647c9468",
   "outputs": [
    {
     "data": {
      "text/plain": [
       "[b'0,Men Tshirts,5,default,round,printed,default,short sleeves,,,,,',\n",
       " b'1,Men Tshirts,5,multicolor,polo,solid,solid,short sleeves,,,,,',\n",
       " b'2,Men Tshirts,5,default,polo,solid,solid,short sleeves,,,,,']"
      ]
     },
     "execution_count": 31,
     "metadata": {},
     "output_type": "execute_result"
    }
   ],
   "execution_count": 31
  },
  {
   "metadata": {
    "ExecuteTime": {
     "end_time": "2024-11-02T12:59:05.315359Z",
     "start_time": "2024-11-02T12:59:05.313054Z"
    }
   },
   "cell_type": "code",
   "source": [
    "# @tf.function\n",
    "# def preprocess_text_features(line):\n",
    "#     line = tf.strings.unicode_decode(line, input_encoding='UTF-8') \n",
    "#     line = tf.strings.unicode_encode(line,'UTF-8')\n",
    "#     line = tf.strings.split(line, sep=',')\n",
    "#     return line\n",
    "\n",
    "@tf.function\n",
    "def preprocess_text_features(line):\n",
    "    line = tf.strings.unicode_decode(line, 'UTF-8')\n",
    "    line = tf.strings.as_string(line)\n",
    "    return line"
   ],
   "id": "ff80a3f59495e16e",
   "outputs": [],
   "execution_count": 49
  },
  {
   "metadata": {
    "ExecuteTime": {
     "end_time": "2024-11-02T12:59:05.500846Z",
     "start_time": "2024-11-02T12:59:05.486534Z"
    }
   },
   "cell_type": "code",
   "source": "new_ds = train_csv.skip(1).map(preprocess_text_features, num_parallel_calls=tf.data.experimental.AUTOTUNE)",
   "id": "1b089031e8446141",
   "outputs": [],
   "execution_count": 50
  },
  {
   "metadata": {
    "ExecuteTime": {
     "end_time": "2024-11-02T12:59:05.946003Z",
     "start_time": "2024-11-02T12:59:05.931393Z"
    }
   },
   "cell_type": "code",
   "source": "list(new_ds.take(1).as_numpy_iterator())",
   "id": "72109558f4f4bb62",
   "outputs": [
    {
     "data": {
      "text/plain": [
       "[array([b'48', b'44', b'77', b'101', b'110', b'32', b'84', b'115', b'104',\n",
       "        b'105', b'114', b'116', b'115', b'44', b'53', b'44', b'100',\n",
       "        b'101', b'102', b'97', b'117', b'108', b'116', b'44', b'114',\n",
       "        b'111', b'117', b'110', b'100', b'44', b'112', b'114', b'105',\n",
       "        b'110', b'116', b'101', b'100', b'44', b'100', b'101', b'102',\n",
       "        b'97', b'117', b'108', b'116', b'44', b'115', b'104', b'111',\n",
       "        b'114', b'116', b'32', b'115', b'108', b'101', b'101', b'118',\n",
       "        b'101', b'115', b'44', b'44', b'44', b'44', b'44'], dtype=object)]"
      ]
     },
     "execution_count": 51,
     "metadata": {},
     "output_type": "execute_result"
    }
   ],
   "execution_count": 51
  },
  {
   "metadata": {},
   "cell_type": "code",
   "outputs": [],
   "execution_count": null,
   "source": "",
   "id": "65b59132ccb01a65"
  }
 ],
 "metadata": {
  "kernelspec": {
   "display_name": "Python 3",
   "language": "python",
   "name": "python3"
  },
  "language_info": {
   "codemirror_mode": {
    "name": "ipython",
    "version": 2
   },
   "file_extension": ".py",
   "mimetype": "text/x-python",
   "name": "python",
   "nbconvert_exporter": "python",
   "pygments_lexer": "ipython2",
   "version": "2.7.6"
  }
 },
 "nbformat": 4,
 "nbformat_minor": 5
}
